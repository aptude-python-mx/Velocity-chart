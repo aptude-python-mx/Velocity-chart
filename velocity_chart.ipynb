{
 "cells": [
  {
   "cell_type": "code",
   "execution_count": 1,
   "metadata": {},
   "outputs": [],
   "source": [
    "import matplotlib.pyplot as plt\n",
    "import pandas as pd\n",
    "import numpy as np"
   ]
  },
  {
   "cell_type": "code",
   "execution_count": 2,
   "metadata": {},
   "outputs": [],
   "source": [
    "dev = \"\"\n",
    "assigned = [34,34,34,42]\n",
    "completed = [21,13,34,31]"
   ]
  },
  {
   "cell_type": "code",
   "execution_count": 3,
   "metadata": {},
   "outputs": [],
   "source": [
    "def velocitychart():\n",
    "    total_completed = sum(completed)\n",
    "    total_sprints = len(completed)\n",
    "    average=total_completed/total_sprints\n",
    "    if len(assigned) > len(completed):\n",
    "        completed.append(0)\n",
    "    df=pd.DataFrame(assigned, columns=[\"assigned\"])\n",
    "    df1=pd.DataFrame(completed, columns=[\"completed\"])\n",
    "    fig1 = plt.figure()\n",
    "    bx = fig1.add_axes([1,1,1,1])\n",
    "    plt.title(\"Velocity Chart\")\n",
    "    plt.ylabel(\"Story Points\")\n",
    "    plt.xlabel(\"Sprint\")\n",
    "    x=np.arange(len(assigned))\n",
    "    bx.bar(x + 1.0, df.assigned, color='grey', width=0.2, label=\"Assigned\")\n",
    "    bx.bar(x + 1.2, df1.completed, color='green', width=0.2, label=\"Completed\")\n",
    "    plt.legend()\n",
    "    print(\"Developer\", dev, \"has been completing on average\", average,\"story points\", \"through\", total_sprints, \"sprints.\")"
   ]
  },
  {
   "cell_type": "code",
   "execution_count": 4,
   "metadata": {},
   "outputs": [
    {
     "name": "stdout",
     "output_type": "stream",
     "text": [
      "Developer  has been completing on average 24.75 story points through 4 sprints.\n"
     ]
    },
    {
     "data": {
      "image/png": "[encoded data removed]",
      "text/plain": [
       "<Figure size 432x288 with 1 Axes>"
      ]
     },
     "metadata": {
      "needs_background": "light"
     },
     "output_type": "display_data"
    }
   ],
   "source": [
    "velocitychart()"
   ]
  },
  {
   "cell_type": "code",
   "execution_count": null,
   "metadata": {},
   "outputs": [
    {
     "name": "stdout",
     "output_type": "stream",
     "text": [
      "Enter the Story Points Completed by Juan in Sprint 5\n"
     ]
    }
   ],
   "source": [
    "print(\"Enter the Story Points Completed by Juan in Sprint\",len(assigned)+1)\n",
    "last_completed=int(input())\n",
    "completed.append(last_completed)\n",
    "completed"
   ]
  },
  {
   "cell_type": "code",
   "execution_count": null,
   "metadata": {},
   "outputs": [],
   "source": []
  }
 ],
 "metadata": {
  "kernelspec": {
   "display_name": "Python 3",
   "language": "python",
   "name": "python3"
  },
  "language_info": {
   "codemirror_mode": {
    "name": "ipython",
    "version": 3
   },
   "file_extension": ".py",
   "mimetype": "text/x-python",
   "name": "python",
   "nbconvert_exporter": "python",
   "pygments_lexer": "ipython3",
   "version": "3.8.3"
  }
 },
 "nbformat": 4,
 "nbformat_minor": 2
}
